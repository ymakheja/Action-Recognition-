{
 "cells": [
  {
   "cell_type": "markdown",
   "metadata": {
    "_uuid": "ded11202ff6f5149934f3130ac8d32cf1f902984"
   },
   "source": [
    "# Training a ConvNet PyTorch\n",
    "\n",
    "In this notebook, you'll learn how to use the powerful PyTorch framework to specify a conv net architecture and train it on the human action recognition dataset. \n"
   ]
  },
  {
   "cell_type": "code",
   "execution_count": 1,
   "metadata": {
    "_uuid": "dd18c190f37462b3f6446e190b6bec046db8c1eb",
    "collapsed": true
   },
   "outputs": [],
   "source": [
    "import torch\n",
    "import torch.nn as nn\n",
    "import torch.optim as optim\n",
    "from torch.autograd import Variable\n",
    "from torch.utils.data import DataLoader,sampler,Dataset\n",
    "import torchvision.datasets as dset\n",
    "import torchvision.transforms as T\n",
    "import timeit\n",
    "from PIL import Image\n",
    "import os\n",
    "import numpy as np\n",
    "import scipy.io\n"
   ]
  },
  {
   "cell_type": "markdown",
   "metadata": {
    "_uuid": "f8d8a2122c15f389eae49f93ed2112aacc4ae0b8"
   },
   "source": [
    "## What's this PyTorch business?\n",
    "\n",
    "* When using a framework like PyTorch or TensorFlow you can harness the power of the GPU for your own custom neural network architectures without having to write CUDA code directly.\n",
    "* this notebook will walk you through much of what you need to do to train models using pytorch. if you want to learn more or need further clarification on topics that aren't fully explained here, here are 2 good Pytorch tutorials. 1): http://pytorch.org/tutorials/beginner/deep_learning_60min_blitz.html 2)http://pytorch.org/tutorials/beginner/pytorch_with_examples.html\n",
    "* It's not necessary to have a GPU for this homework, using a GPU can make your code run faster.\n"
   ]
  },
  {
   "cell_type": "markdown",
   "metadata": {
    "_uuid": "a9fe84fa31877ec1110b734f46665da04ba91c35"
   },
   "source": [
    "## Load Datasets\n",
    "\n",
    "In this part, we will load the action recognition dataset for the neural network. In order to load data from our custom dataset, we need to write a custom Dataloader. If you put hw6_data.mat, /valClips,/trainClips,/testClips under the folder of ./data/ , you do not need to change anything in this part."
   ]
  },
  {
   "cell_type": "markdown",
   "metadata": {
    "_uuid": "ceecc408284900064f040e0fa2803fec68217325"
   },
   "source": [
    "First, load the labels of the dataset, you should write your path of the hw6_data.mat file."
   ]
  },
  {
   "cell_type": "code",
   "execution_count": 2,
   "metadata": {
    "_uuid": "87d1abad0a1991eab0fbb629783e908436f250f8"
   },
   "outputs": [
    {
     "name": "stdout",
     "output_type": "stream",
     "text": [
      "7770\n",
      "2230\n"
     ]
    }
   ],
   "source": [
    "label_mat=scipy.io.loadmat('../input/dataset/hw6_data.mat')\n",
    "label_train=label_mat['trLb']\n",
    "print(len(label_train))\n",
    "label_val=label_mat['valLb']\n",
    "print(len(label_val))"
   ]
  },
  {
   "cell_type": "markdown",
   "metadata": {
    "_uuid": "1c58b0403987faab041f0f3c50be12afe48aa2d5"
   },
   "source": [
    "### Dataset class\n",
    "\n",
    "torch.utils.data.Dataset is an abstract class representing a dataset. The custom dataset should inherit Dataset and override the following methods:\n",
    "\n",
    "    __len__ so that len(dataset) returns the size of the dataset.\n",
    "    __getitem__ to support the indexing such that dataset[i] can be used to get ith sample\n",
    "\n",
    "Let’s create a dataset class for our action recognition dataset. We will read images in __getitem__. This is memory efficient because all the images are not stored in the memory at once but read as required.\n",
    "\n",
    "Sample of our dataset will be a dict {'image':image,'img_path':img_path,'Label':Label}. Our datset will take an optional argument transform so that any required processing can be applied on the sample. "
   ]
  },
  {
   "cell_type": "code",
   "execution_count": 3,
   "metadata": {
    "_uuid": "3781aede78bafacbee95c72e004a16eba826301b",
    "collapsed": true
   },
   "outputs": [],
   "source": [
    "\n",
    "class ActionDataset(Dataset):\n",
    "    \"\"\"Action dataset.\"\"\"\n",
    "\n",
    "    def __init__(self,  root_dir,labels=[], transform=None):\n",
    "        \"\"\"\n",
    "        Args:\n",
    "            root_dir (string): Directory with all the images.\n",
    "            labels(list): labels if images.\n",
    "            transform (callable, optional): Optional transform to be applied on a sample.\n",
    "        \"\"\"\n",
    "        self.root_dir = root_dir\n",
    "        self.transform = transform\n",
    "        self.length=len(os.listdir(self.root_dir))\n",
    "        self.labels=labels\n",
    "    def __len__(self):\n",
    "        return self.length*3\n",
    "\n",
    "    def __getitem__(self, idx):\n",
    "        \n",
    "        folder=int(idx/3)+1\n",
    "        imidx=idx%3+1\n",
    "        folder=format(folder,'05d')\n",
    "        imgname=str(imidx)+'.jpg'\n",
    "        img_path = os.path.join(self.root_dir,\n",
    "                                folder,imgname)\n",
    "        image = Image.open(img_path)\n",
    "        if len(self.labels)!=0:\n",
    "            Label=self.labels[int(idx/3)][0]-1\n",
    "        if self.transform:\n",
    "            image = self.transform(image)\n",
    "        if len(self.labels)!=0:\n",
    "            sample={'image':image,'img_path':img_path,'Label':Label}\n",
    "        else:\n",
    "            sample={'image':image,'img_path':img_path}\n",
    "        return sample\n",
    "  "
   ]
  },
  {
   "cell_type": "markdown",
   "metadata": {
    "_uuid": "054f245a0d3701be42198c0e5f5ea80e41534eb0"
   },
   "source": [
    "Iterating over the dataset by a for loop."
   ]
  },
  {
   "cell_type": "code",
   "execution_count": 4,
   "metadata": {
    "_uuid": "9a10f11979af7dcdbbd9b6b702eeff6a7f3ea90b"
   },
   "outputs": [
    {
     "name": "stdout",
     "output_type": "stream",
     "text": [
      "torch.Size([3, 64, 64])\n",
      "0.0\n",
      "../input/cse512f18hw6vid/data/data/trainClips/00001/1.jpg\n",
      "torch.Size([3, 64, 64])\n",
      "0.0\n",
      "../input/cse512f18hw6vid/data/data/trainClips/00001/2.jpg\n",
      "torch.Size([3, 64, 64])\n",
      "0.0\n",
      "../input/cse512f18hw6vid/data/data/trainClips/00001/3.jpg\n",
      "torch.Size([3, 64, 64])\n",
      "0.0\n",
      "../input/cse512f18hw6vid/data/data/trainClips/00002/1.jpg\n",
      "torch.Size([3, 64, 64])\n",
      "0.0\n",
      "../input/cse512f18hw6vid/data/data/trainClips/00002/2.jpg\n",
      "torch.Size([3, 64, 64])\n",
      "0.0\n",
      "../input/cse512f18hw6vid/data/data/trainClips/00002/3.jpg\n",
      "torch.Size([3, 64, 64])\n",
      "0.0\n",
      "../input/cse512f18hw6vid/data/data/trainClips/00003/1.jpg\n",
      "torch.Size([3, 64, 64])\n",
      "0.0\n",
      "../input/cse512f18hw6vid/data/data/trainClips/00003/2.jpg\n",
      "torch.Size([3, 64, 64])\n",
      "0.0\n",
      "../input/cse512f18hw6vid/data/data/trainClips/00003/3.jpg\n",
      "torch.Size([3, 64, 64])\n",
      "0.0\n",
      "../input/cse512f18hw6vid/data/data/trainClips/00004/1.jpg\n"
     ]
    }
   ],
   "source": [
    "image_dataset=ActionDataset(root_dir='../input/cse512f18hw6vid/data/data/trainClips/',\\\n",
    "                            labels=label_train,transform=T.ToTensor())\n",
    "\n",
    "#iterating though the dataset\n",
    "for i in range(10):\n",
    "    sample=image_dataset[i]\n",
    "    print(sample['image'].shape)\n",
    "    print(sample['Label'])\n",
    "    print(sample['img_path'])\n",
    "     \n",
    "   "
   ]
  },
  {
   "cell_type": "markdown",
   "metadata": {
    "_uuid": "70ca06ac6a95d52382e2a4da0bfad3af20e8cd1d"
   },
   "source": [
    "We can iterate over the created dataset with a 'for' loop as before. However, we are losing a lot of features by using a simple for loop to iterate over the data. In particular, we are missing out on:\n",
    "\n",
    "* Batching the data\n",
    "* Shuffling the data\n",
    "* Load the data in parallel using multiprocessing workers.\n",
    "\n",
    "torch.utils.data.DataLoader is an iterator which provides all these features. "
   ]
  },
  {
   "cell_type": "code",
   "execution_count": 5,
   "metadata": {
    "_uuid": "efbf31a7f520ebdb21c907a8122c09a41e9b385c"
   },
   "outputs": [
    {
     "name": "stdout",
     "output_type": "stream",
     "text": [
      "0 torch.Size([4, 3, 64, 64]) ['../input/cse512f18hw6vid/data/data/trainClips/03131/2.jpg', '../input/cse512f18hw6vid/data/data/trainClips/04601/2.jpg', '../input/cse512f18hw6vid/data/data/trainClips/07406/1.jpg', '../input/cse512f18hw6vid/data/data/trainClips/07280/3.jpg'] tensor([3., 5., 9., 9.], dtype=torch.float64)\n",
      "1 torch.Size([4, 3, 64, 64]) ['../input/cse512f18hw6vid/data/data/trainClips/07211/2.jpg', '../input/cse512f18hw6vid/data/data/trainClips/03842/2.jpg', '../input/cse512f18hw6vid/data/data/trainClips/05310/2.jpg', '../input/cse512f18hw6vid/data/data/trainClips/07339/3.jpg'] tensor([9., 4., 6., 9.], dtype=torch.float64)\n",
      "2 torch.Size([4, 3, 64, 64]) ['../input/cse512f18hw6vid/data/data/trainClips/04676/3.jpg', '../input/cse512f18hw6vid/data/data/trainClips/04668/1.jpg', '../input/cse512f18hw6vid/data/data/trainClips/00993/3.jpg', '../input/cse512f18hw6vid/data/data/trainClips/02560/2.jpg'] tensor([5., 5., 1., 2.], dtype=torch.float64)\n",
      "3 torch.Size([4, 3, 64, 64]) ['../input/cse512f18hw6vid/data/data/trainClips/03620/1.jpg', '../input/cse512f18hw6vid/data/data/trainClips/06028/1.jpg', '../input/cse512f18hw6vid/data/data/trainClips/05376/1.jpg', '../input/cse512f18hw6vid/data/data/trainClips/04742/3.jpg'] tensor([4., 7., 6., 5.], dtype=torch.float64)\n",
      "4 torch.Size([4, 3, 64, 64]) ['../input/cse512f18hw6vid/data/data/trainClips/02471/1.jpg', '../input/cse512f18hw6vid/data/data/trainClips/02005/2.jpg', '../input/cse512f18hw6vid/data/data/trainClips/05957/3.jpg', '../input/cse512f18hw6vid/data/data/trainClips/04417/2.jpg'] tensor([2., 2., 7., 5.], dtype=torch.float64)\n",
      "5 torch.Size([4, 3, 64, 64]) ['../input/cse512f18hw6vid/data/data/trainClips/01684/2.jpg', '../input/cse512f18hw6vid/data/data/trainClips/01256/1.jpg', '../input/cse512f18hw6vid/data/data/trainClips/04084/1.jpg', '../input/cse512f18hw6vid/data/data/trainClips/07461/1.jpg'] tensor([1., 1., 4., 9.], dtype=torch.float64)\n",
      "6 torch.Size([4, 3, 64, 64]) ['../input/cse512f18hw6vid/data/data/trainClips/05008/1.jpg', '../input/cse512f18hw6vid/data/data/trainClips/07315/3.jpg', '../input/cse512f18hw6vid/data/data/trainClips/06286/1.jpg', '../input/cse512f18hw6vid/data/data/trainClips/05463/2.jpg'] tensor([6., 9., 7., 6.], dtype=torch.float64)\n",
      "7 torch.Size([4, 3, 64, 64]) ['../input/cse512f18hw6vid/data/data/trainClips/03999/1.jpg', '../input/cse512f18hw6vid/data/data/trainClips/03880/2.jpg', '../input/cse512f18hw6vid/data/data/trainClips/02206/2.jpg', '../input/cse512f18hw6vid/data/data/trainClips/03610/1.jpg'] tensor([4., 4., 2., 4.], dtype=torch.float64)\n",
      "8 torch.Size([4, 3, 64, 64]) ['../input/cse512f18hw6vid/data/data/trainClips/05329/2.jpg', '../input/cse512f18hw6vid/data/data/trainClips/02531/3.jpg', '../input/cse512f18hw6vid/data/data/trainClips/07145/2.jpg', '../input/cse512f18hw6vid/data/data/trainClips/07087/3.jpg'] tensor([6., 2., 9., 8.], dtype=torch.float64)\n",
      "9 torch.Size([4, 3, 64, 64]) ['../input/cse512f18hw6vid/data/data/trainClips/02426/2.jpg', '../input/cse512f18hw6vid/data/data/trainClips/05774/1.jpg', '../input/cse512f18hw6vid/data/data/trainClips/06047/2.jpg', '../input/cse512f18hw6vid/data/data/trainClips/06404/1.jpg'] tensor([2., 7., 7., 7.], dtype=torch.float64)\n",
      "10 torch.Size([4, 3, 64, 64]) ['../input/cse512f18hw6vid/data/data/trainClips/05028/1.jpg', '../input/cse512f18hw6vid/data/data/trainClips/04453/3.jpg', '../input/cse512f18hw6vid/data/data/trainClips/06706/1.jpg', '../input/cse512f18hw6vid/data/data/trainClips/07513/3.jpg'] tensor([6., 5., 8., 9.], dtype=torch.float64)\n",
      "11 torch.Size([4, 3, 64, 64]) ['../input/cse512f18hw6vid/data/data/trainClips/06794/3.jpg', '../input/cse512f18hw6vid/data/data/trainClips/04223/2.jpg', '../input/cse512f18hw6vid/data/data/trainClips/05980/1.jpg', '../input/cse512f18hw6vid/data/data/trainClips/00603/3.jpg'] tensor([8., 5., 7., 0.], dtype=torch.float64)\n",
      "12 torch.Size([4, 3, 64, 64]) ['../input/cse512f18hw6vid/data/data/trainClips/02282/2.jpg', '../input/cse512f18hw6vid/data/data/trainClips/07609/1.jpg', '../input/cse512f18hw6vid/data/data/trainClips/01222/1.jpg', '../input/cse512f18hw6vid/data/data/trainClips/04781/2.jpg'] tensor([2., 9., 1., 5.], dtype=torch.float64)\n",
      "13 torch.Size([4, 3, 64, 64]) ['../input/cse512f18hw6vid/data/data/trainClips/04268/3.jpg', '../input/cse512f18hw6vid/data/data/trainClips/06866/1.jpg', '../input/cse512f18hw6vid/data/data/trainClips/05426/2.jpg', '../input/cse512f18hw6vid/data/data/trainClips/07482/2.jpg'] tensor([5., 8., 6., 9.], dtype=torch.float64)\n",
      "14 torch.Size([4, 3, 64, 64]) ['../input/cse512f18hw6vid/data/data/trainClips/06138/1.jpg', '../input/cse512f18hw6vid/data/data/trainClips/04385/1.jpg', '../input/cse512f18hw6vid/data/data/trainClips/00953/1.jpg', '../input/cse512f18hw6vid/data/data/trainClips/00453/3.jpg'] tensor([7., 5., 1., 0.], dtype=torch.float64)\n",
      "15 torch.Size([4, 3, 64, 64]) ['../input/cse512f18hw6vid/data/data/trainClips/05790/1.jpg', '../input/cse512f18hw6vid/data/data/trainClips/02275/3.jpg', '../input/cse512f18hw6vid/data/data/trainClips/04276/3.jpg', '../input/cse512f18hw6vid/data/data/trainClips/07596/3.jpg'] tensor([7., 2., 5., 9.], dtype=torch.float64)\n",
      "16 torch.Size([4, 3, 64, 64]) ['../input/cse512f18hw6vid/data/data/trainClips/01702/2.jpg', '../input/cse512f18hw6vid/data/data/trainClips/06483/3.jpg', '../input/cse512f18hw6vid/data/data/trainClips/02813/2.jpg', '../input/cse512f18hw6vid/data/data/trainClips/02374/3.jpg'] tensor([1., 8., 3., 2.], dtype=torch.float64)\n",
      "17 torch.Size([4, 3, 64, 64]) ['../input/cse512f18hw6vid/data/data/trainClips/00881/2.jpg', '../input/cse512f18hw6vid/data/data/trainClips/07478/1.jpg', '../input/cse512f18hw6vid/data/data/trainClips/03939/1.jpg', '../input/cse512f18hw6vid/data/data/trainClips/03748/1.jpg'] tensor([0., 9., 4., 4.], dtype=torch.float64)\n",
      "18 torch.Size([4, 3, 64, 64]) ['../input/cse512f18hw6vid/data/data/trainClips/00681/3.jpg', '../input/cse512f18hw6vid/data/data/trainClips/07175/2.jpg', '../input/cse512f18hw6vid/data/data/trainClips/05633/1.jpg', '../input/cse512f18hw6vid/data/data/trainClips/00661/1.jpg'] tensor([0., 9., 7., 0.], dtype=torch.float64)\n",
      "19 torch.Size([4, 3, 64, 64]) ['../input/cse512f18hw6vid/data/data/trainClips/04416/3.jpg', '../input/cse512f18hw6vid/data/data/trainClips/00585/1.jpg', '../input/cse512f18hw6vid/data/data/trainClips/03565/1.jpg', '../input/cse512f18hw6vid/data/data/trainClips/06525/2.jpg'] tensor([5., 0., 4., 8.], dtype=torch.float64)\n",
      "20 torch.Size([4, 3, 64, 64]) ['../input/cse512f18hw6vid/data/data/trainClips/06896/1.jpg', '../input/cse512f18hw6vid/data/data/trainClips/02697/3.jpg', '../input/cse512f18hw6vid/data/data/trainClips/05821/2.jpg', '../input/cse512f18hw6vid/data/data/trainClips/06300/1.jpg'] tensor([8., 3., 7., 7.], dtype=torch.float64)\n",
      "21 torch.Size([4, 3, 64, 64]) ['../input/cse512f18hw6vid/data/data/trainClips/00044/3.jpg', '../input/cse512f18hw6vid/data/data/trainClips/03015/3.jpg', '../input/cse512f18hw6vid/data/data/trainClips/06742/1.jpg', '../input/cse512f18hw6vid/data/data/trainClips/01462/3.jpg'] tensor([0., 3., 8., 1.], dtype=torch.float64)\n"
     ]
    }
   ],
   "source": [
    "image_dataloader = DataLoader(image_dataset, batch_size=4,\n",
    "                        shuffle=True, num_workers=0)\n",
    "\n",
    "\n",
    "for i,sample in enumerate(image_dataloader):\n",
    "    sample['image']=sample['image']\n",
    "    print(i,sample['image'].shape,sample['img_path'],sample['Label'])\n",
    "    if i>20: \n",
    "        break"
   ]
  },
  {
   "cell_type": "markdown",
   "metadata": {
    "_uuid": "d21afa15d644ad43cfc0055fb3827c5c58e5d557"
   },
   "source": [
    "Dataloaders for the training, validationg and testing set. "
   ]
  },
  {
   "cell_type": "code",
   "execution_count": 6,
   "metadata": {
    "_uuid": "d87a6affd02a22ea8797ff277f2a48253f45c783",
    "collapsed": true
   },
   "outputs": [],
   "source": [
    "image_dataset_train=ActionDataset(root_dir='../input/cse512f18hw6vid/data/data/trainClips/',labels=label_train,transform=T.ToTensor())\n",
    "\n",
    "image_dataloader_train = DataLoader(image_dataset_train, batch_size=32,\n",
    "                        shuffle=True, num_workers=0)\n",
    "image_dataset_val=ActionDataset(root_dir='../input/cse512f18hw6vid/data/data/valClips/',labels=label_val,transform=T.ToTensor())\n",
    "\n",
    "image_dataloader_val = DataLoader(image_dataset_val, batch_size=32,\n",
    "                        shuffle=False, num_workers=0)\n",
    "image_dataset_test=ActionDataset(root_dir='../input/cse512f18hw6vid/data/data/testClips/',labels=[],transform=T.ToTensor())\n",
    "\n",
    "image_dataloader_test = DataLoader(image_dataset_test, batch_size=32,\n",
    "                        shuffle=False, num_workers=0)"
   ]
  },
  {
   "cell_type": "code",
   "execution_count": 7,
   "metadata": {
    "_uuid": "1e782b5145ac85720ff81f8c08f6cb9335459e30",
    "collapsed": true
   },
   "outputs": [],
   "source": [
    "dtype = torch.FloatTensor # the CPU datatype\n",
    "# Constant to control how frequently we print train loss\n",
    "print_every = 100\n",
    "# This is a little utility that we'll use to reset the model\n",
    "# if we want to re-initialize all our parameters\n",
    "def reset(m):\n",
    "    if hasattr(m, 'reset_parameters'):\n",
    "        m.reset_parameters()"
   ]
  },
  {
   "cell_type": "markdown",
   "metadata": {
    "_uuid": "3cb5a3782ecabaef9f1cfec16c9852104f50c47b"
   },
   "source": [
    "## Example Model\n",
    "\n",
    "### Some assorted tidbits\n",
    "\n",
    "Let's start by looking at a simple model. First, note that PyTorch operates on Tensors, which are n-dimensional arrays functionally analogous to numpy's ndarrays, with the additional feature that they can be used for computations on GPUs.\n",
    "\n",
    "We'll provide you with a Flatten function, which we explain here. Remember that our image data (and more relevantly, our intermediate feature maps) are initially N x C x H x W, where:\n",
    "* N is the number of datapoints\n",
    "* C is the number of image channels. \n",
    "* H is the height of the intermediate feature map in pixels\n",
    "* W is the height of the intermediate feature map in pixels\n",
    "\n",
    "This is the right way to represent the data when we are doing something like a 2D convolution, that needs spatial understanding of where the intermediate features are relative to each other. When we input  data into fully connected affine layers, however, we want each datapoint to be represented by a single vector -- it's no longer useful to segregate the different channels, rows, and columns of the data. So, we use a \"Flatten\" operation to collapse the C x H x W values per representation into a single long vector. The Flatten function below first reads in the N, C, H, and W values from a given batch of data, and then returns a \"view\" of that data. \"View\" is analogous to numpy's \"reshape\" method: it reshapes x's dimensions to be N x ??, where ?? is allowed to be anything (in this case, it will be C x H x W, but we don't need to specify that explicitly). "
   ]
  },
  {
   "cell_type": "code",
   "execution_count": 8,
   "metadata": {
    "_uuid": "59ad2d8dcc564f9c8948f07ab69eb71b004bf4c7",
    "collapsed": true
   },
   "outputs": [],
   "source": [
    "class Flatten(nn.Module):\n",
    "    def forward(self, x):\n",
    "        N, C, H, W = x.size() # read in N, C, H, W\n",
    "        return x.view(N, -1)  # \"flatten\" the C * H * W values into a single vector per image"
   ]
  },
  {
   "cell_type": "markdown",
   "metadata": {
    "_uuid": "22f18e72a07cf2fa032a35b7b86b5bd923a19b06"
   },
   "source": [
    "### The example model itself\n",
    "\n",
    "The first step to training your own model is defining its architecture.\n",
    "\n",
    "Here's an example of a convolutional neural network defined in PyTorch -- try to understand what each line is doing, remembering that each layer is composed upon the previous layer. We haven't trained anything yet - that'll come next - for now, we want you to understand how everything gets set up.  nn.Sequential is a container which applies each layer\n",
    "one after the other.\n",
    "\n",
    "In this example, you see 2D convolutional layers (Conv2d), ReLU activations, and fully-connected layers (Linear). You also see the Cross-Entropy loss function, and the Adam optimizer being used. \n",
    "\n",
    "Make sure you understand why the parameters of the Linear layer are 10092 and 10.\n"
   ]
  },
  {
   "cell_type": "code",
   "execution_count": 9,
   "metadata": {
    "_uuid": "119bf4af0f835fc62b1a97fa8e92b78cfbeb451a",
    "collapsed": true
   },
   "outputs": [],
   "source": [
    "# Here's where we define the architecture of the model... \n",
    "simple_model = nn.Sequential(\n",
    "                nn.Conv2d(3, 32, kernel_size=7, stride=2),\n",
    "                nn.ReLU(inplace=True),\n",
    "                Flatten(), # see above for explanation\n",
    "                nn.Linear(10092, 10), # affine layer\n",
    "              )\n",
    "\n",
    "# Set the type of all data in this model to be FloatTensor \n",
    "simple_model.type(dtype)\n",
    "\n",
    "loss_fn = nn.CrossEntropyLoss().type(dtype)\n",
    "optimizer = optim.Adam(simple_model.parameters(), lr=1e-2) # lr sets the learning rate of the optimizer"
   ]
  },
  {
   "cell_type": "markdown",
   "metadata": {
    "_uuid": "2c3155d16fd49d9745996cca1c57e8761b4706df"
   },
   "source": [
    "PyTorch supports many other layer types, loss functions, and optimizers - you will experiment with these next. Here's the official API documentation for these (if any of the parameters used above were unclear, this resource will also be helpful). \n",
    "\n",
    "* Layers: http://pytorch.org/docs/nn.html\n",
    "* Activations: http://pytorch.org/docs/nn.html#non-linear-activations\n",
    "* Loss functions: http://pytorch.org/docs/nn.html#loss-functions\n",
    "* Optimizers: http://pytorch.org/docs/optim.html#algorithms"
   ]
  },
  {
   "cell_type": "markdown",
   "metadata": {
    "_uuid": "d727e379b526eba13ba4308efa412ea9eb916e89"
   },
   "source": [
    "## Training a specific model\n",
    "\n",
    "In this section, we're going to specify a model for you to construct. The goal here isn't to get good performance (that'll be next), but instead to get comfortable with understanding the PyTorch documentation and configuring your own model. \n",
    "\n",
    "Using the code provided above as guidance, and using the following PyTorch documentation, specify a model with the following architecture:\n",
    "\n",
    "* 7x7 Convolutional Layer with 8 filters and stride of 1\n",
    "* ReLU Activation Layer\n",
    "* 2x2 Max Pooling layer with a stride of 2\n",
    "* 7x7 Convolutional Layer with 16 filters and stride of 1\n",
    "* ReLU Activation Layer\n",
    "* 2x2 Max Pooling layer with a stride of 2\n",
    "* Flatten the feature map\n",
    "* ReLU Activation Layer\n",
    "* Affine layer to map input units to 10 outputs, you need to figure out the input size here.\n"
   ]
  },
  {
   "cell_type": "code",
   "execution_count": 10,
   "metadata": {
    "_uuid": "8737e1a9738315803d767e64837653434de77220",
    "collapsed": true
   },
   "outputs": [],
   "source": [
    "fixed_model_base = nn.Sequential( \n",
    "    #########1st TODO  (10 points)###################\n",
    "    nn.Conv2d(3,8,kernel_size=7,stride=1),\n",
    "    nn.ReLU(inplace=True),\n",
    "    nn.MaxPool2d(2, stride = 2),\n",
    "    nn.Conv2d(8,16,kernel_size=7,stride=1),\n",
    "    nn.ReLU(inplace=True),\n",
    "    nn.MaxPool2d(2,stride=2),\n",
    "    Flatten(),\n",
    "    nn.ReLU(inplace=True),\n",
    "    nn.Linear(1936,10)\n",
    "    ####################################\n",
    "            )\n",
    "fixed_model = fixed_model_base.type(dtype)\n",
    "\n"
   ]
  },
  {
   "cell_type": "markdown",
   "metadata": {
    "_uuid": "17823bc405bf96d787ae475ba92ac531cae7dc83"
   },
   "source": [
    "To make sure you're doing the right thing, use the following tool to check the dimensionality of your output (it should be 32 x 10, since our batches have size 32 and the output of the final affine layer should be 10, corresponding to our 10 classes):"
   ]
  },
  {
   "cell_type": "code",
   "execution_count": 11,
   "metadata": {
    "_uuid": "308a1dab01dc83383e6bba20efe0afb4457d2add"
   },
   "outputs": [
    {
     "name": "stdout",
     "output_type": "stream",
     "text": [
      "[32 10]\n"
     ]
    },
    {
     "data": {
      "text/plain": [
       "True"
      ]
     },
     "execution_count": 11,
     "metadata": {},
     "output_type": "execute_result"
    }
   ],
   "source": [
    "## Now we're going to feed a random batch into the model you defined and make sure the output is the right size\n",
    "x = torch.randn(32, 3, 64, 64).type(dtype)\n",
    "x_var = Variable(x.type(dtype)) # Construct a PyTorch Variable out of your input data\n",
    "ans = fixed_model(x_var)        # Feed it through the model! \n",
    "\n",
    "# Check to make sure what comes out of your model\n",
    "# is the right dimensionality... this should be True\n",
    "# if you've done everything correctly\n",
    "print(np.array(ans.size()))\n",
    "np.array_equal(np.array(ans.size()), np.array([32, 10]))   \n"
   ]
  },
  {
   "cell_type": "markdown",
   "metadata": {
    "_uuid": "a7633b536d0ebd47bca13e018f2bdd7f10b24c3c"
   },
   "source": [
    "### Train the model.\n",
    "\n",
    "Now that you've seen how to define a model and do a single forward pass of some data through it, let's  walk through how you'd actually train one whole epoch over your training data (using the fixed_model_base we provided above).\n",
    "\n",
    "Make sure you understand how each PyTorch function used below corresponds to what you implemented in your custom neural network implementation.\n",
    "\n",
    "Note that because we are not resetting the weights anywhere below, if you run the cell multiple times, you are effectively training multiple epochs (so your performance should improve).\n",
    "\n",
    "First, set up an RMSprop optimizer (using a 1e-4 learning rate) and a cross-entropy loss function:"
   ]
  },
  {
   "cell_type": "code",
   "execution_count": 12,
   "metadata": {
    "_uuid": "9b51f1faa3ea4588103930846ea1f0afa35624d6",
    "collapsed": true
   },
   "outputs": [],
   "source": [
    "################ 2nd TODO  (5 points)##################\n",
    "optimizer = torch.optim.RMSprop(fixed_model_base.parameters(), lr = 1e-4)\n",
    "loss_fn = nn.CrossEntropyLoss()"
   ]
  },
  {
   "cell_type": "code",
   "execution_count": 13,
   "metadata": {
    "_uuid": "fb8ec43e515009abfec3717936c2e6156fa18c6d"
   },
   "outputs": [
    {
     "name": "stderr",
     "output_type": "stream",
     "text": [
      "/opt/conda/lib/python3.6/site-packages/ipykernel_launcher.py:20: UserWarning: invalid index of a 0-dim tensor. This will be an error in PyTorch 0.5. Use tensor.item() to convert a 0-dim tensor to a Python number\n"
     ]
    },
    {
     "name": "stdout",
     "output_type": "stream",
     "text": [
      "t = 100, loss = 1.9060\n",
      "t = 200, loss = 1.7760\n",
      "t = 300, loss = 1.8330\n",
      "t = 400, loss = 1.4460\n",
      "t = 500, loss = 1.4972\n",
      "t = 600, loss = 1.4201\n",
      "t = 700, loss = 1.2230\n"
     ]
    }
   ],
   "source": [
    "# This sets the model in \"training\" mode. \n",
    "# This is relevant for some layers that may have different behavior\n",
    "# in training mode vs testing mode, such as Dropout and BatchNorm. \n",
    "fixed_model.train()\n",
    "\n",
    "# Load one batch at a time.\n",
    "for t, sample in enumerate(image_dataloader_train):\n",
    "    x_var = Variable(sample['image'])\n",
    "    #print(type(x_var.data))\n",
    "    #print(x_var.shape)\n",
    "    y_var = Variable(sample['Label']).long()\n",
    "\n",
    "    # This is the forward pass: predict the scores for each class, for each x in the batch.\n",
    "    scores = fixed_model(x_var)\n",
    "    \n",
    "    # Use the correct y values and the predicted y values to compute the loss.\n",
    "    loss = loss_fn(scores, y_var)\n",
    "    \n",
    "    if (t + 1) % print_every == 0:\n",
    "        print('t = %d, loss = %.4f' % (t + 1, loss.data[0]))\n",
    "\n",
    "    # Zero out all of the gradients for the variables which the optimizer will update.\n",
    "    optimizer.zero_grad()\n",
    "    \n",
    "    # This is the backwards pass: compute the gradient of the loss with respect to each \n",
    "    # parameter of the model.\n",
    "    loss.backward()\n",
    "    \n",
    "    # Actually update the parameters of the model using the gradients computed by the backwards pass.\n",
    "    optimizer.step()\n",
    "   "
   ]
  },
  {
   "cell_type": "markdown",
   "metadata": {
    "_uuid": "2fe70eb4f86376b5629913b3427607c4d7eb8c23"
   },
   "source": [
    "Now you've seen how the training process works in PyTorch. To save you writing boilerplate code, we're providing the following helper functions to help you train for multiple epochs and check the accuracy of your model:"
   ]
  },
  {
   "cell_type": "code",
   "execution_count": 14,
   "metadata": {
    "_uuid": "22ad996cb0635d69d6e83fd8b1d3b07fdb74d97e",
    "collapsed": true
   },
   "outputs": [],
   "source": [
    "def train(model, loss_fn, optimizer, dataloader, num_epochs = 1):\n",
    "    for epoch in range(num_epochs):\n",
    "        print('Starting epoch %d / %d' % (epoch + 1, num_epochs))\n",
    "        model.train()\n",
    "        for t, sample in enumerate(dataloader):\n",
    "            x_var = Variable(sample['image'])\n",
    "            y_var = Variable(sample['Label'].long())\n",
    "\n",
    "            scores = model(x_var)\n",
    "            \n",
    "            loss = loss_fn(scores, y_var)\n",
    "            if (t + 1) % print_every == 0:\n",
    "                print('t = %d, loss = %.4f' % (t + 1, loss.data[0]))\n",
    "\n",
    "            optimizer.zero_grad()\n",
    "            loss.backward()\n",
    "            optimizer.step()\n",
    "\n",
    "def check_accuracy(model, loader):\n",
    "    '''\n",
    "    if loader.dataset.train:\n",
    "        print('Checking accuracy on validation set')\n",
    "    else:\n",
    "        print('Checking accuracy on test set')  \n",
    "    '''\n",
    "    num_correct = 0\n",
    "    num_samples = 0\n",
    "    model.eval() # Put the model in test mode (the opposite of model.train(), essentially)\n",
    "    for t, sample in enumerate(loader):\n",
    "        x_var = Variable(sample['image'])\n",
    "        y_var = sample['Label']\n",
    "        #y_var=y_var.cpu()\n",
    "        scores = model(x_var)\n",
    "        _, preds = scores.data.max(1)#scores.data.cpu().max(1)\n",
    "        #print(preds)\n",
    "        #print(y_var)\n",
    "        num_correct += (preds.numpy() == y_var.numpy()).sum()\n",
    "        num_samples += preds.size(0)\n",
    "    acc = float(num_correct) / num_samples\n",
    "    print('Got %d / %d correct (%.2f)' % (num_correct, num_samples, 100 * acc))\n",
    "    \n",
    "    \n",
    "\n"
   ]
  },
  {
   "cell_type": "markdown",
   "metadata": {
    "_uuid": "b5c7392876b2390b69752ef0f9e09313589894be"
   },
   "source": [
    "### Check the accuracy of the model.\n",
    "\n",
    "Let's see the train and check_accuracy code in action -- feel free to use these methods when evaluating the models you develop below.\n",
    "\n",
    "You should get a training loss of around 1.0-1.2, and a validation accuracy of around 50-60%. As mentioned above, if you re-run the cells, you'll be training more epochs, so your performance will improve past these numbers.\n",
    "\n",
    "But don't worry about getting these numbers better -- this was just practice before you tackle designing your own model."
   ]
  },
  {
   "cell_type": "code",
   "execution_count": 15,
   "metadata": {
    "_uuid": "102c10d09559ae7cb7ccff3558c22924900e6eb6"
   },
   "outputs": [
    {
     "name": "stdout",
     "output_type": "stream",
     "text": [
      "Starting epoch 1 / 1\n"
     ]
    },
    {
     "name": "stderr",
     "output_type": "stream",
     "text": [
      "/opt/conda/lib/python3.6/site-packages/ipykernel_launcher.py:13: UserWarning: invalid index of a 0-dim tensor. This will be an error in PyTorch 0.5. Use tensor.item() to convert a 0-dim tensor to a Python number\n",
      "  del sys.path[0]\n"
     ]
    },
    {
     "name": "stdout",
     "output_type": "stream",
     "text": [
      "t = 100, loss = 2.2258\n",
      "t = 200, loss = 2.1032\n",
      "t = 300, loss = 1.9715\n",
      "t = 400, loss = 1.7426\n",
      "t = 500, loss = 1.6620\n",
      "t = 600, loss = 1.4791\n",
      "t = 700, loss = 1.6189\n",
      "Got 11494 / 23310 correct (49.31)\n"
     ]
    }
   ],
   "source": [
    "torch.random.manual_seed(12345)\n",
    "fixed_model.cpu()\n",
    "fixed_model.apply(reset) \n",
    "fixed_model.train() \n",
    "train(fixed_model, loss_fn, optimizer,image_dataloader_train, num_epochs=1) \n",
    "check_accuracy(fixed_model, image_dataloader_train)# check accuracy on the training set\n"
   ]
  },
  {
   "cell_type": "markdown",
   "metadata": {
    "_uuid": "7f49e45ea63a3fdd9d1d0000c3eba3bc31ff116f"
   },
   "source": [
    "### Don't forget the validation set!\n",
    "\n",
    "And note that you can use the check_accuracy function to evaluate on the validation set, by passing **image_dataloader_val** as the second argument to check_accuracy. The accuracy on validation set is arround 40-50%."
   ]
  },
  {
   "cell_type": "code",
   "execution_count": 16,
   "metadata": {
    "_uuid": "c2bc0da5c78e5f7ced92b83f7635cf323e05b5fe"
   },
   "outputs": [
    {
     "name": "stdout",
     "output_type": "stream",
     "text": [
      "Got 2962 / 6690 correct (44.28)\n"
     ]
    }
   ],
   "source": [
    "check_accuracy(fixed_model, image_dataloader_val)#check accuracy on the validation set"
   ]
  },
  {
   "cell_type": "markdown",
   "metadata": {
    "_uuid": "1245e6de540a2e11dce39371f9d68ead10a12935"
   },
   "source": [
    "##### Train a better  model for action recognition!\n",
    "\n",
    "Now it's your job to experiment with architectures, hyperparameters, loss functions, and optimizers to train a model that achieves better accuracy on the action recognition **validation** set. You can use the check_accuracy and train functions from above."
   ]
  },
  {
   "cell_type": "markdown",
   "metadata": {
    "_uuid": "a51bfeec28c5fa4d995527c53b3d9eaea0000ac4"
   },
   "source": [
    "### Things you should try:\n",
    "- **Filter size**: Above we used 7x7; this makes pretty pictures but smaller filters may be more efficient\n",
    "- **Number of filters**: Do more or fewer do better?\n",
    "- **Pooling vs Strided Convolution**: Do you use max pooling or just stride convolutions?\n",
    "- **Batch normalization**: Try adding spatial batch normalization after convolution layers and vanilla batch normalization after affine layers. Do your networks train faster?\n",
    "- **Network architecture**: The network above has two layers of trainable parameters. Can you do better with a deep network? Good architectures to try include:\n",
    "    - [conv-relu-pool]xN -> [affine]xM -> [softmax or SVM]\n",
    "    - [conv-relu-conv-relu-pool]xN -> [affine]xM -> [softmax or SVM]\n",
    "    - [batchnorm-relu-conv]xN -> [affine]xM -> [softmax or SVM]\n",
    "- **Global Average Pooling**: Instead of flattening and then having multiple affine layers, perform convolutions until your image gets small (7x7 or so) and then perform an average pooling operation to get to a 1x1 image picture (1, 1 , Filter#), which is then reshaped into a (Filter#) vector. This is used in [Google's Inception Network](https://arxiv.org/abs/1512.00567) (See Table 1 for their architecture).\n",
    "- **Regularization**: Add l2 weight regularization, or perhaps use Dropout.\n",
    "\n",
    "### Tips for training\n",
    "For each network architecture that you try, you should tune the learning rate and regularization strength. When doing this there are a couple important things to keep in mind:\n",
    "\n",
    "- If the parameters are working well, you should see improvement within a few hundred iterations\n",
    "- Remember the coarse-to-fine approach for hyperparameter tuning: start by testing a large range of hyperparameters for just a few training iterations to find the combinations of parameters that are working at all.\n",
    "- Once you have found some sets of parameters that seem to work, search more finely around these parameters. You may need to train for more epochs.\n",
    "- You should use the validation set for hyperparameter search, and save your test set for evaluating your architecture on the best parameters as selected by the validation set.\n",
    "\n",
    "### Going above and beyond\n",
    "If you are feeling adventurous there are many other features you can implement to try and improve your performance. You are **not required** to implement any of these; however they would be good things to try.\n",
    "\n",
    "- Alternative update steps: For the assignment we implemented SGD+momentum, RMSprop, and Adam; you could try alternatives like AdaGrad or AdaDelta.\n",
    "- Alternative activation functions such as leaky ReLU, parametric ReLU, ELU, or MaxOut.\n",
    "- Model ensembles\n",
    "- Data augmentation\n",
    "- New Architectures\n",
    "  - [ResNets](https://arxiv.org/abs/1512.03385) where the input from the previous layer is added to the output.\n",
    "  - [DenseNets](https://arxiv.org/abs/1608.06993) where inputs into previous layers are concatenated together.\n",
    "  - [This blog has an in-depth overview](https://chatbotslife.com/resnets-highwaynets-and-densenets-oh-my-9bb15918ee32)\n",
    "\n",
    "If you do decide to implement something extra, clearly describe it in the \"Extra Credit Description\" cell below.\n",
    "\n",
    "### What we expect\n",
    "At the very least, you should be able to train a ConvNet that gets at least 55% accuracy on the validation set. This is just a lower bound - if you are careful it should be possible to get accuracies much higher than that! Extra credit points will be awarded for particularly high-scoring models or unique approaches.\n",
    "\n",
    "You should use the space below to experiment and train your network. \n",
    "\n"
   ]
  },
  {
   "cell_type": "code",
   "execution_count": 40,
   "metadata": {
    "_uuid": "c4bd961804f64953bdac731c899969051657f94d",
    "collapsed": true
   },
   "outputs": [],
   "source": [
    "###########3rd TODO (20 points, must submit the results to Kaggle) ##############\n",
    "# Train your model here, and make sure the output of this cell is the accuracy of your best model on the \n",
    "# train, val, and test sets. Here's some code to get you started. The output of this cell should be the training\n",
    "# and validation accuracy on your best model (measured by validation accuracy).\n",
    "fixed_model_base = nn.Sequential( \n",
    "    nn.Conv2d(3,128,kernel_size=3,stride=1),\n",
    "    nn.ReLU(inplace=True),\n",
    "    nn.BatchNorm2d(128),\n",
    "    \n",
    "    nn.Conv2d(128,128,kernel_size=3,stride=1),\n",
    "    nn.ReLU(inplace=True),\n",
    "    nn.BatchNorm2d(128),\n",
    "    nn.MaxPool2d(2, stride = 2),\n",
    "\n",
    "    \n",
    "    nn.Conv2d(128,256,kernel_size=3,stride=1),\n",
    "    nn.ReLU(inplace=True),\n",
    "    nn.BatchNorm2d(256),\n",
    "    \n",
    "    nn.Conv2d(256,256,kernel_size=3,stride=1),\n",
    "    nn.ReLU(inplace=True),\n",
    "    nn.BatchNorm2d(256),\n",
    "    nn.MaxPool2d(2,stride=2),\n",
    "\n",
    "    Flatten(),\n",
    "    nn.Linear(43264,10),\n",
    "    nn.LogSoftmax()\n",
    ")\n",
    "# model = None\n",
    "optimizer = torch.optim.Adadelta(fixed_model_base.parameters(), lr = 0.0001)\n",
    "loss_fn = nn.CrossEntropyLoss()\n",
    "\n",
    "fixed_model = fixed_model_base.type(dtype)\n",
    "torch.random.manual_seed(12345)\n",
    "fixed_model.cpu()\n",
    "fixed_model.apply(reset) \n",
    "fixed_model.train() \n",
    "train(fixed_model_base, loss_fn, optimizer,image_dataloader_train, num_epochs=1) \n",
    "check_accuracy(fixed_model, image_dataloader_val)"
   ]
  },
  {
   "cell_type": "markdown",
   "metadata": {
    "_uuid": "047062b7bbc47eea0beb96c8a520691019acd95b"
   },
   "source": [
    "### Describe what you did \n",
    "\n",
    "In the cell below you should write an explanation of what you did, any additional features that you implemented, and any visualizations or graphs that you make in the process of training and evaluating your network."
   ]
  },
  {
   "cell_type": "markdown",
   "metadata": {
    "_uuid": "c8b330e26a4d233b21e7931eeb46d293b910468a"
   },
   "source": [
    "Tell us here!\n",
    "**###########4th TODO (5 points) ##############**\n",
    "\n",
    "*  3*3 Convolution layer with 128 filters and stride 1\n",
    "* ReLU Activation Layer\n",
    "* Batch normalization layer\n",
    "* 3*3 Convolutional Layer with 128 filters and stride of 1\n",
    "* ReLU Activation Layer\n",
    "* Batch normalization layer\n",
    "* 2x2 Max Pooling layer with a stride of 2\n",
    "* 3*3 Convolutional Layer with 256 filters and stride of 1\n",
    "* ReLU Activation Layer\n",
    "* Batch normalization layer\n",
    "* 3*3 Convolutional Layer with 256 filters and stride of 1\n",
    "* ReLU Activation Layer\n",
    "* Batch normalization layer\n",
    "* 2x2 Max Pooling layer with a stride of 2\n",
    "* Flatten the feature map\n",
    "* Affine layer to map input units to 10 outputs\n",
    "* LogSoftmax layer\n",
    "\n",
    "\n"
   ]
  },
  {
   "cell_type": "markdown",
   "metadata": {
    "_uuid": "273235f8f5203bee623491032c425e4e69ca6429"
   },
   "source": [
    "### Testing the model and submit on Kaggle\n",
    "Testing the model on the testing set and save the results as a .csv file. \n",
    "Please submitted the results.csv file generated by predict_on_test() to Kaggle(https://www.kaggle.com/c/cse512springhw3) to see how well your network performs on the test set. \n",
    "#######5th TODO (submit the result to Kaggle, the highest 3 entries get extra 10 points )###############"
   ]
  },
  {
   "cell_type": "code",
   "execution_count": null,
   "metadata": {
    "_uuid": "d88fae7dfc089c0d1de993d0412bdfeed46fc209",
    "collapsed": true
   },
   "outputs": [],
   "source": [
    "def predict_on_test(model, loader):\n",
    "    '''\n",
    "    if loader.dataset.train:\n",
    "        print('Checking accuracy on validation set')\n",
    "    else:\n",
    "        print('Checking accuracy on test set')  \n",
    "    '''\n",
    "    num_correct = 0\n",
    "    num_samples = 0\n",
    "    model.eval() # Put the model in test mode (the opposite of model.train(), essentially)\n",
    "    results=open('results.csv','w')\n",
    "    count=0\n",
    "    results.write('Id'+','+'Class'+'\\n')\n",
    "    for t, sample in enumerate(loader):\n",
    "        x_var = Variable(sample['image'])\n",
    "        scores = model(x_var)\n",
    "        _, preds = scores.data.max(1)\n",
    "        for i in range(len(preds)):\n",
    "            results.write(str(count)+','+str(preds[i].item())+'\\n')\n",
    "            count+=1\n",
    "    results.close()\n",
    "    return count\n",
    "    \n",
    "count=predict_on_test(fixed_model, image_dataloader_test)\n",
    "print(count)"
   ]
  },
  {
   "cell_type": "markdown",
   "metadata": {
    "_uuid": "cf2c3224c2cf9c2573b6d962c151381fa67b9623"
   },
   "source": [
    "### GPU! (This part is optional, 0 points)\n",
    "\n",
    "If you have access to GPU, you can make the code run on GPU, it would be much faster. \n",
    "\n",
    "Now, we're going to switch the dtype of the model and our data to the GPU-friendly tensors, and see what happens... everything is the same, except we are casting our model and input tensors as this new dtype instead of the old one.\n",
    "\n",
    "If this returns false, or otherwise fails in a not-graceful way (i.e., with some error message), you may not have an NVIDIA GPU available on your machine. "
   ]
  },
  {
   "cell_type": "code",
   "execution_count": null,
   "metadata": {
    "_uuid": "d994d47e66a551fdb8228f35ede0d2a00a9410fc",
    "collapsed": true
   },
   "outputs": [],
   "source": [
    "# Verify that CUDA is properly configured and you have a GPU available\n",
    "\n",
    "torch.cuda.is_available()"
   ]
  },
  {
   "cell_type": "code",
   "execution_count": 41,
   "metadata": {
    "_uuid": "ee8d6a11ff5c1a0e55361175fd638d206867f6c2"
   },
   "outputs": [
    {
     "data": {
      "text/plain": [
       "True"
      ]
     },
     "execution_count": 41,
     "metadata": {},
     "output_type": "execute_result"
    }
   ],
   "source": [
    "import copy\n",
    "gpu_dtype = torch.cuda.FloatTensor\n",
    "\n",
    "fixed_model_gpu = copy.deepcopy(fixed_model_base)#.type(gpu_dtype)\n",
    "fixed_model_gpu.cuda()\n",
    "x_gpu = torch.randn(4, 3, 64, 64).cuda()#.type(gpu_dtype)\n",
    "x_var_gpu = Variable(x_gpu)#type(gpu_dtype)) # Construct a PyTorch Variable out of your input data\n",
    "ans = fixed_model_gpu(x_var_gpu)        # Feed it through the model! \n",
    "\n",
    "# Check to make sure what comes out of your model\n",
    "# is the right dimensionality... this should be True\n",
    "# if you've done everything correctly\n",
    "np.array_equal(np.array(ans.size()), np.array([4, 10]))\n"
   ]
  },
  {
   "cell_type": "markdown",
   "metadata": {
    "_uuid": "efbeb95303f85419814618a628dba080bf513753"
   },
   "source": [
    "Run the following cell to evaluate the performance of the forward pass running on the CPU:"
   ]
  },
  {
   "cell_type": "code",
   "execution_count": 23,
   "metadata": {
    "_uuid": "1b981ee0e3872aef079265bc540cb971b87299b3"
   },
   "outputs": [
    {
     "name": "stdout",
     "output_type": "stream",
     "text": [
      "980 ms ± 8.47 ms per loop (mean ± std. dev. of 7 runs, 1 loop each)\n"
     ]
    }
   ],
   "source": [
    "%%timeit \n",
    "ans = fixed_model(x_var)"
   ]
  },
  {
   "cell_type": "markdown",
   "metadata": {
    "_uuid": "4058039f459219cddee59255d45b83c15f388588"
   },
   "source": [
    "... and now the GPU:"
   ]
  },
  {
   "cell_type": "code",
   "execution_count": 24,
   "metadata": {
    "_uuid": "5e448cce53848aed7110d0f5833cf2e6fa199a0e"
   },
   "outputs": [
    {
     "name": "stdout",
     "output_type": "stream",
     "text": [
      "8.8 ms ± 9.85 µs per loop (mean ± std. dev. of 7 runs, 100 loops each)\n"
     ]
    }
   ],
   "source": [
    "%%timeit \n",
    "torch.cuda.synchronize() # Make sure there are no pending GPU computations\n",
    "ans = fixed_model_gpu(x_var_gpu)        # Feed it through the model! \n",
    "torch.cuda.synchronize() # Make sure there are no pending GPU computations"
   ]
  },
  {
   "cell_type": "markdown",
   "metadata": {
    "_uuid": "12bf46570ec3393fc012add4b4465b69cd3247ff"
   },
   "source": [
    "You should observe that even a simple forward pass like this is significantly faster on the GPU. So for the rest of the assignment (and when you go train your models in assignment 3 and your project!), you should use the GPU datatype for your model and your tensors: as a reminder that is *torch.cuda.FloatTensor* (in our notebook here as *gpu_dtype*)"
   ]
  },
  {
   "cell_type": "markdown",
   "metadata": {
    "_uuid": "18d4cc967b835c37b46b22592abafe87f5fe9603"
   },
   "source": [
    "Let's make the loss function and training variables to GPU friendly format by '.cuda()'"
   ]
  },
  {
   "cell_type": "code",
   "execution_count": 48,
   "metadata": {
    "_uuid": "ea5e9c4990042d14886eedea3df80cd19c3d3367",
    "collapsed": true
   },
   "outputs": [],
   "source": [
    "loss_fn = nn.CrossEntropyLoss().cuda()\n",
    "optimizer = optim.Adam(fixed_model_gpu.parameters(), lr=1e-5)"
   ]
  },
  {
   "cell_type": "code",
   "execution_count": 45,
   "metadata": {
    "_uuid": "edb20bca44a2741ac22d893401ee8d44b577cd95",
    "collapsed": true
   },
   "outputs": [],
   "source": [
    "def train(model, loss_fn, optimizer, dataloader, num_epochs = 1):\n",
    "    for epoch in range(num_epochs):\n",
    "        print('Starting epoch %d / %d' % (epoch + 1, num_epochs))\n",
    "        check_accuracy(fixed_model_gpu, image_dataloader_val)\n",
    "        model.train()\n",
    "        for t, sample in enumerate(dataloader):\n",
    "            x_var = Variable(sample['image'].cuda())\n",
    "            y_var = Variable(sample['Label'].cuda().long())\n",
    "\n",
    "            scores = model(x_var)\n",
    "            \n",
    "            loss = loss_fn(scores, y_var)\n",
    "            if (t + 1) % print_every == 0:\n",
    "                print('t = %d, loss = %.4f' % (t + 1, loss.data[0]))\n",
    "\n",
    "            optimizer.zero_grad()\n",
    "            loss.backward()\n",
    "            optimizer.step()\n",
    "\n",
    "def check_accuracy(model, loader):\n",
    "    '''\n",
    "    if loader.dataset.train:\n",
    "        print('Checking accuracy on validation set')\n",
    "    else:\n",
    "        print('Checking accuracy on test set')  \n",
    "    '''\n",
    "    num_correct = 0\n",
    "    num_samples = 0\n",
    "    model.eval() # Put the model in test mode (the opposite of model.train(), essentially)\n",
    "    for t, sample in enumerate(loader):\n",
    "        x_var = Variable(sample['image'].cuda())\n",
    "        y_var = sample['Label'].cuda()\n",
    "        y_var=y_var.cpu()\n",
    "        scores = model(x_var)\n",
    "        _, preds = scores.data.cpu().max(1)\n",
    "        #print(preds)\n",
    "        #print(y_var)\n",
    "        num_correct += (preds.numpy() == y_var.numpy()).sum()\n",
    "        num_samples += preds.size(0)\n",
    "    acc = float(num_correct) / num_samples\n",
    "    print('Got %d / %d correct (%.2f)' % (num_correct, num_samples, 100 * acc))"
   ]
  },
  {
   "cell_type": "markdown",
   "metadata": {
    "_uuid": "67cc0d663e08d2b936e44138ae7aa0f316f67eb5"
   },
   "source": [
    "Run on GPU!"
   ]
  },
  {
   "cell_type": "code",
   "execution_count": 49,
   "metadata": {
    "_uuid": "7fd2a7431d081b7ed4db258ecfcd330eebd4958b"
   },
   "outputs": [
    {
     "name": "stdout",
     "output_type": "stream",
     "text": [
      "Starting epoch 1 / 5\n",
      "Got 840 / 6690 correct (12.56)\n"
     ]
    },
    {
     "name": "stderr",
     "output_type": "stream",
     "text": [
      "/opt/conda/lib/python3.6/site-packages/ipykernel_launcher.py:14: UserWarning: invalid index of a 0-dim tensor. This will be an error in PyTorch 0.5. Use tensor.item() to convert a 0-dim tensor to a Python number\n",
      "  \n"
     ]
    },
    {
     "name": "stdout",
     "output_type": "stream",
     "text": [
      "t = 100, loss = 0.7456\n",
      "t = 200, loss = 0.6998\n",
      "t = 300, loss = 0.5334\n",
      "t = 400, loss = 0.2197\n",
      "t = 500, loss = 0.4053\n",
      "t = 600, loss = 0.2409\n",
      "t = 700, loss = 0.0899\n",
      "Starting epoch 2 / 5\n",
      "Got 3981 / 6690 correct (59.51)\n",
      "t = 100, loss = 0.1815\n",
      "t = 200, loss = 0.0880\n",
      "t = 300, loss = 0.1353\n",
      "t = 400, loss = 0.0702\n",
      "t = 500, loss = 0.0422\n",
      "t = 600, loss = 0.0691\n",
      "t = 700, loss = 0.1272\n",
      "Starting epoch 3 / 5\n",
      "Got 4198 / 6690 correct (62.75)\n",
      "t = 100, loss = 0.0280\n",
      "t = 200, loss = 0.0472\n",
      "t = 300, loss = 0.0558\n",
      "t = 400, loss = 0.0296\n",
      "t = 500, loss = 0.0276\n",
      "t = 600, loss = 0.0246\n",
      "t = 700, loss = 0.0167\n",
      "Starting epoch 4 / 5\n",
      "Got 4197 / 6690 correct (62.74)\n",
      "t = 100, loss = 0.0312\n",
      "t = 200, loss = 0.0201\n",
      "t = 300, loss = 0.0142\n",
      "t = 400, loss = 0.0208\n",
      "t = 500, loss = 0.0349\n",
      "t = 600, loss = 0.0094\n",
      "t = 700, loss = 0.0151\n",
      "Starting epoch 5 / 5\n",
      "Got 4153 / 6690 correct (62.08)\n",
      "t = 100, loss = 0.0155\n",
      "t = 200, loss = 0.0125\n",
      "t = 300, loss = 0.0167\n",
      "t = 400, loss = 0.0251\n",
      "t = 500, loss = 0.0889\n",
      "t = 600, loss = 0.0068\n",
      "t = 700, loss = 0.0163\n",
      "Got 23308 / 23310 correct (99.99)\n"
     ]
    }
   ],
   "source": [
    "torch.cuda.random.manual_seed(12345)\n",
    "\n",
    "fixed_model_gpu.apply(reset) \n",
    "fixed_model_gpu.train() \n",
    "train(fixed_model_gpu, loss_fn, optimizer,image_dataloader_train, num_epochs=5) \n",
    "check_accuracy(fixed_model_gpu, image_dataloader_train)# check accuracy on the training set\n"
   ]
  },
  {
   "cell_type": "code",
   "execution_count": 50,
   "metadata": {
    "_uuid": "663dd7cdbc586ffe1184e3266761ae5f4ae35d4f"
   },
   "outputs": [
    {
     "name": "stdout",
     "output_type": "stream",
     "text": [
      "Got 4203 / 6690 correct (62.83)\n"
     ]
    }
   ],
   "source": [
    "check_accuracy(fixed_model_gpu, image_dataloader_val)"
   ]
  },
  {
   "cell_type": "markdown",
   "metadata": {
    "_uuid": "6ca406030b8d0ba9fc0ed790cf5b5f64be859911"
   },
   "source": [
    "### 3D Convolution on video clips (25 points+10 extra points)\n",
    "3D convolution is for videos, it has one more dimension than 2d convolution. You can find the document for 3D convolution here http://pytorch.org/docs/master/nn.html#torch.nn.Conv3dIn. In our dataset, each clip is a video of 3 frames. Lets classify the each clip rather than each image using 3D convolution.\n",
    "We offer the data loader, the train_3d and check_accuracy"
   ]
  },
  {
   "cell_type": "code",
   "execution_count": 53,
   "metadata": {
    "_uuid": "ef84b43c77eb248dbb954a54ad7055703aebf9a0"
   },
   "outputs": [
    {
     "name": "stdout",
     "output_type": "stream",
     "text": [
      "torch.Size([3, 3, 64, 64])\n",
      "0.0\n",
      "00001\n",
      "torch.Size([3, 3, 64, 64])\n",
      "0.0\n",
      "00002\n",
      "torch.Size([3, 3, 64, 64])\n",
      "0.0\n",
      "00003\n",
      "torch.Size([3, 3, 64, 64])\n",
      "0.0\n",
      "00004\n",
      "torch.Size([3, 3, 64, 64])\n",
      "0.0\n",
      "00005\n",
      "torch.Size([3, 3, 64, 64])\n",
      "0.0\n",
      "00006\n",
      "torch.Size([3, 3, 64, 64])\n",
      "0.0\n",
      "00007\n",
      "torch.Size([3, 3, 64, 64])\n",
      "0.0\n",
      "00008\n",
      "torch.Size([3, 3, 64, 64])\n",
      "0.0\n",
      "00009\n",
      "torch.Size([3, 3, 64, 64])\n",
      "0.0\n",
      "00010\n"
     ]
    }
   ],
   "source": [
    "class ActionClipDataset(Dataset):\n",
    "    \"\"\"Action Landmarks dataset.\"\"\"\n",
    "\n",
    "    def __init__(self,  root_dir,labels=[], transform=None):\n",
    "        \"\"\"\n",
    "        Args:\n",
    "            csv_file (string): Path to the csv file with annotations.\n",
    "            root_dir (string): Directory with all the images.\n",
    "            transform (callable, optional): Optional transform to be applied\n",
    "                on a sample.\n",
    "        \"\"\"\n",
    "        \n",
    "        self.root_dir = root_dir\n",
    "        self.transform = transform\n",
    "        self.length=len(os.listdir(self.root_dir))\n",
    "        self.labels=labels\n",
    "\n",
    "    def __len__(self):\n",
    "        return self.length\n",
    "\n",
    "    def __getitem__(self, idx):\n",
    "        \n",
    "        folder=idx+1\n",
    "        folder=format(folder,'05d')\n",
    "        clip=[]\n",
    "        if len(self.labels)!=0:\n",
    "            Label=self.labels[idx][0]-1\n",
    "        for i in range(3):\n",
    "            imidx=i+1\n",
    "            imgname=str(imidx)+'.jpg'\n",
    "            img_path = os.path.join(self.root_dir,\n",
    "                                    folder,imgname)\n",
    "            image = Image.open(img_path)\n",
    "            image=np.array(image)\n",
    "            clip.append(image)\n",
    "        if self.transform:\n",
    "            clip=np.asarray(clip)\n",
    "            clip=np.transpose(clip, (0,3,1,2))\n",
    "            clip = torch.from_numpy(np.asarray(clip))\n",
    "        if len(self.labels)!=0:\n",
    "            sample={'clip':clip,'Label':Label,'folder':folder}\n",
    "        else:\n",
    "            sample={'clip':clip,'folder':folder}\n",
    "        return sample\n",
    "\n",
    "clip_dataset=ActionClipDataset(root_dir='../input/cse512f18hw6vid/data/data/trainClips/',\\\n",
    "                               labels=label_train,transform=T.ToTensor())#/home/tqvinh/Study/CSE512/cse512-s18/hw2data/trainClips/\n",
    "for i in range(10):\n",
    "    sample=clip_dataset[i]\n",
    "    print(sample['clip'].shape)\n",
    "    print(sample['Label'])\n",
    "    print(sample['folder'])"
   ]
  },
  {
   "cell_type": "code",
   "execution_count": 54,
   "metadata": {
    "_uuid": "51c992c67b263dd55c96ec8096e4f91be97679e4"
   },
   "outputs": [
    {
     "name": "stdout",
     "output_type": "stream",
     "text": [
      "0 torch.Size([4, 3, 3, 64, 64]) ['04168', '05527', '03839', '05276'] tensor([4., 6., 4., 6.], dtype=torch.float64)\n",
      "1 torch.Size([4, 3, 3, 64, 64]) ['00215', '07313', '05047', '01954'] tensor([0., 9., 6., 2.], dtype=torch.float64)\n",
      "2 torch.Size([4, 3, 3, 64, 64]) ['04788', '04300', '06962', '07544'] tensor([5., 5., 8., 9.], dtype=torch.float64)\n",
      "3 torch.Size([4, 3, 3, 64, 64]) ['07723', '03462', '04252', '03716'] tensor([9., 3., 5., 4.], dtype=torch.float64)\n",
      "4 torch.Size([4, 3, 3, 64, 64]) ['05700', '00936', '02384', '02330'] tensor([7., 1., 2., 2.], dtype=torch.float64)\n",
      "5 torch.Size([4, 3, 3, 64, 64]) ['07149', '04876', '01817', '07769'] tensor([9., 5., 1., 9.], dtype=torch.float64)\n",
      "6 torch.Size([4, 3, 3, 64, 64]) ['03639', '02429', '00695', '05090'] tensor([4., 2., 0., 6.], dtype=torch.float64)\n",
      "7 torch.Size([4, 3, 3, 64, 64]) ['06927', '02056', '00513', '07200'] tensor([8., 2., 0., 9.], dtype=torch.float64)\n",
      "8 torch.Size([4, 3, 3, 64, 64]) ['00891', '00584', '01499', '04603'] tensor([0., 0., 1., 5.], dtype=torch.float64)\n",
      "9 torch.Size([4, 3, 3, 64, 64]) ['03028', '02583', '01125', '04194'] tensor([3., 2., 1., 5.], dtype=torch.float64)\n",
      "10 torch.Size([4, 3, 3, 64, 64]) ['01092', '03661', '05357', '01454'] tensor([1., 4., 6., 1.], dtype=torch.float64)\n",
      "11 torch.Size([4, 3, 3, 64, 64]) ['05601', '04204', '06928', '07342'] tensor([6., 5., 8., 9.], dtype=torch.float64)\n",
      "12 torch.Size([4, 3, 3, 64, 64]) ['01453', '01378', '01910', '03691'] tensor([1., 1., 2., 4.], dtype=torch.float64)\n",
      "13 torch.Size([4, 3, 3, 64, 64]) ['03280', '00255', '07639', '03388'] tensor([3., 0., 9., 3.], dtype=torch.float64)\n",
      "14 torch.Size([4, 3, 3, 64, 64]) ['04701', '03156', '00919', '04032'] tensor([5., 3., 1., 4.], dtype=torch.float64)\n",
      "15 torch.Size([4, 3, 3, 64, 64]) ['02798', '03158', '03427', '02272'] tensor([3., 3., 3., 2.], dtype=torch.float64)\n",
      "16 torch.Size([4, 3, 3, 64, 64]) ['00797', '05356', '04931', '04408'] tensor([0., 6., 5., 5.], dtype=torch.float64)\n",
      "17 torch.Size([4, 3, 3, 64, 64]) ['02057', '05274', '00879', '03035'] tensor([2., 6., 0., 3.], dtype=torch.float64)\n",
      "18 torch.Size([4, 3, 3, 64, 64]) ['07766', '02201', '04496', '00796'] tensor([9., 2., 5., 0.], dtype=torch.float64)\n",
      "19 torch.Size([4, 3, 3, 64, 64]) ['04448', '03222', '07066', '06253'] tensor([5., 3., 8., 7.], dtype=torch.float64)\n",
      "20 torch.Size([4, 3, 3, 64, 64]) ['03650', '06691', '00212', '03391'] tensor([4., 8., 0., 3.], dtype=torch.float64)\n",
      "21 torch.Size([4, 3, 3, 64, 64]) ['00025', '02662', '03722', '05428'] tensor([0., 2., 4., 6.], dtype=torch.float64)\n"
     ]
    }
   ],
   "source": [
    "clip_dataloader = DataLoader(clip_dataset, batch_size=4,\n",
    "                        shuffle=True, num_workers=4)\n",
    "\n",
    "\n",
    "for i,sample in enumerate(clip_dataloader):\n",
    "    print(i,sample['clip'].shape,sample['folder'],sample['Label'])\n",
    "    if i>20: \n",
    "        break"
   ]
  },
  {
   "cell_type": "code",
   "execution_count": 55,
   "metadata": {
    "_uuid": "fab8fde8e02f6b964d090ef3a1b2d5d81fbb4a60",
    "collapsed": true
   },
   "outputs": [],
   "source": [
    "clip_dataset_train=ActionClipDataset(root_dir='../input/cse512f18hw6vid/data/data/trainClips',labels=label_train,transform=T.ToTensor())\n",
    "\n",
    "clip_dataloader_train = DataLoader(clip_dataset_train, batch_size=16,\n",
    "                        shuffle=True, num_workers=4)\n",
    "clip_dataset_val=ActionClipDataset(root_dir='../input/cse512f18hw6vid/data/data/valClips',labels=label_val,transform=T.ToTensor())\n",
    "\n",
    "clip_dataloader_val = DataLoader(clip_dataset_val, batch_size=16,\n",
    "                        shuffle=True, num_workers=4)\n",
    "clip_dataset_test=ActionClipDataset(root_dir='../input/cse512f18hw6vid/data/data/testClips',labels=[],transform=T.ToTensor())\n",
    "\n",
    "clip_dataloader_test = DataLoader(clip_dataset_test, batch_size=16,\n",
    "                        shuffle=False, num_workers=4)"
   ]
  },
  {
   "cell_type": "markdown",
   "metadata": {
    "_uuid": "b95cde6257920994ddbd8094433083d15e2161bb"
   },
   "source": [
    "Write the Flatten for 3d covolution feature maps."
   ]
  },
  {
   "cell_type": "code",
   "execution_count": 56,
   "metadata": {
    "_uuid": "edccb19d8ab5b59f3b1bda8549f502a9bbf0b711",
    "collapsed": true
   },
   "outputs": [],
   "source": [
    "class Flatten3d(nn.Module):\n",
    "    def forward(self, x):\n",
    "        ###############6th TODO (5 points)###################\n",
    "        N, C, D, H, W = x.size() # store N, C, D, H, W\n",
    "        return x.view(N, -1)  # flatten  values into a single vector \n",
    "\n",
    "        "
   ]
  },
  {
   "cell_type": "markdown",
   "metadata": {
    "_uuid": "ba8e629a0ff5535df96e094744ae99c94c52fd3f"
   },
   "source": [
    "Design a network using 3D convolution on videos for video classification."
   ]
  },
  {
   "cell_type": "code",
   "execution_count": 57,
   "metadata": {
    "_uuid": "c88d451348f60ed565fe7c86752a8058a4c6ad24"
   },
   "outputs": [
    {
     "data": {
      "text/plain": [
       "True"
      ]
     },
     "execution_count": 57,
     "metadata": {},
     "output_type": "execute_result"
    }
   ],
   "source": [
    "fixed_model_3d = nn.Sequential( # You fill this in!\n",
    "    ###############7th TODO (20 points)#########################\n",
    "    nn.Conv3d(3,32, kernel_size=3, stride=1, padding=2),\n",
    "    nn.BatchNorm3d(32),\n",
    "    nn.ReLU(inplace=True),\n",
    "    nn.MaxPool3d(kernel_size=2, stride=2),\n",
    "    \n",
    "    nn.Conv3d(32, 64, kernel_size=3, stride=1, padding=2),\n",
    "    nn.BatchNorm3d(64),\n",
    "    nn.ReLU(inplace=True),\n",
    "    nn.MaxPool3d(kernel_size=2, stride=2),\n",
    "    \n",
    "    nn.Conv3d(64, 128, kernel_size=3, stride=1, padding=2),\n",
    "    nn.BatchNorm3d(128),\n",
    "    nn.ReLU(inplace=True),\n",
    "    nn.MaxPool3d(kernel_size=2, stride=2),\n",
    "    Flatten3d(),\n",
    "    nn.ReLU(inplace=True),\n",
    "    nn.Linear(20736, 10),   \n",
    "    \n",
    ")\n",
    "\n",
    "fixed_model_3d = fixed_model_3d.type(dtype)\n",
    "x = torch.randn(32,3, 3, 64, 64).type(dtype)\n",
    "x_var = Variable(x).type(dtype) # Construct a PyTorch Variable out of your input data\n",
    "ans = fixed_model_3d(x_var) \n",
    "np.array_equal(np.array(ans.size()), np.array([32, 10]))\n"
   ]
  },
  {
   "cell_type": "markdown",
   "metadata": {
    "_uuid": "3d98f32e7e2257933ef8f3df2631bad0b339a1f0"
   },
   "source": [
    "### Describe what you did (5 points)\n",
    "\n",
    "In the cell below you should write an explanation of what you did, any additional features that you implemented, and any visualizations or graphs that you make in the process of training and evaluating your network."
   ]
  },
  {
   "cell_type": "markdown",
   "metadata": {
    "_uuid": "8b5170bc901b769e1e8f18d444b8d52f57bdbc92"
   },
   "source": [
    "### 8th TODO Tell us here:\n",
    "\n",
    "* 3\\*3*3 Concolution layer with 32 filters \n",
    "* Batch Normalization Layer\n",
    "* ReLU Layer\n",
    "* MaxPooling Layer of Size 2 with stride 2\n",
    "* 3\\*3*3 Concolution layer with 64 filters \n",
    "* Batch Normalization Layer\n",
    "* ReLU Layer\n",
    "* MaxPooling Layer of Size 2 with stride 2\n",
    "* 3\\*3*3 Concolution layer with 128 filters \n",
    "* Batch Normalization Layer\n",
    "* ReLU Layer\n",
    "* MaxPooling Layer of Size 2 with stride 2\n",
    "* Flatten \n",
    "* ReLU Layer\n",
    "* Affine layer"
   ]
  },
  {
   "cell_type": "code",
   "execution_count": null,
   "metadata": {
    "_uuid": "c38ea1dbf931d107c88a52b5f79e6efa65a760be",
    "collapsed": true
   },
   "outputs": [],
   "source": [
    "loss_fn = nn.CrossEntropyLoss().type(dtype)\n",
    "optimizer = optim.RMSprop(fixed_model_3d.parameters(), lr=1e-4)\n"
   ]
  },
  {
   "cell_type": "code",
   "execution_count": 64,
   "metadata": {
    "_uuid": "c5f063e36365e48011d91bfa60cf0ab9f501836b",
    "collapsed": true
   },
   "outputs": [],
   "source": [
    "def train_3d(model, loss_fn, optimizer,dataloader,num_epochs = 1):\n",
    "    for epoch in range(num_epochs):\n",
    "        print('Starting epoch %d / %d' % (epoch + 1, num_epochs))\n",
    "        model.train()\n",
    "        for t, sample in enumerate(dataloader):\n",
    "            x_var = Variable(sample['clip'].type(dtype))\n",
    "            y_var = Variable(sample['Label'].type(dtype).long())\n",
    "\n",
    "            scores = model(x_var)\n",
    "            \n",
    "            loss = loss_fn(scores, y_var)\n",
    "            if (t + 1) % print_every == 0:\n",
    "                print('t = %d, loss = %.4f' % (t + 1, loss.data[0]))\n",
    "\n",
    "            optimizer.zero_grad()\n",
    "            loss.backward()\n",
    "            optimizer.step()\n",
    "\n",
    "def check_accuracy_3d(model, loader):\n",
    "    '''\n",
    "    if loader.dataset.train:\n",
    "        print('Checking accuracy on validation set')\n",
    "    else:\n",
    "        print('Checking accuracy on test set')  \n",
    "    '''\n",
    "    num_correct = 0\n",
    "    num_samples = 0\n",
    "    model.eval() # Put the model in test mode (the opposite of model.train(), essentially)\n",
    "    for t, sample in enumerate(loader):\n",
    "        x_var = Variable(sample['clip'].type(dtype))\n",
    "        y_var = sample['Label'].type(dtype)\n",
    "        y_var=y_var.cpu()\n",
    "        scores = model(x_var)\n",
    "        _, preds = scores.data.cpu().max(1)\n",
    "        #print(preds)\n",
    "        #print(y_var)\n",
    "        num_correct += (preds.numpy() == y_var.numpy()).sum()\n",
    "        num_samples += preds.size(0)\n",
    "    acc = float(num_correct) / num_samples\n",
    "    print('Got %d / %d correct (%.2f)' % (num_correct, num_samples, 100 * acc))\n",
    "    \n",
    "    \n",
    "    #GPU Code\n",
    "    \n",
    "# def train_3d(model, loss_fn, optimizer,dataloader,num_epochs = 1):\n",
    "#     for epoch in range(num_epochs):\n",
    "#         print('Starting epoch %d / %d' % (epoch + 1, num_epochs))\n",
    "#         check_accuracy_3d(fixed_model_gpu, clip_dataloader_val)\n",
    "#         model.train()\n",
    "#         for t, sample in enumerate(dataloader):\n",
    "#             x_var = Variable(sample['clip'].float().cuda())\n",
    "#             y_var = Variable(sample['Label'].cuda().long())\n",
    "\n",
    "#             scores = model(x_var)\n",
    "            \n",
    "#             loss = loss_fn(scores, y_var)\n",
    "#             if (t + 1) % print_every == 0:\n",
    "#                 print('t = %d, loss = %.4f' % (t + 1, loss.data[0]))\n",
    "# #                 check_accuracy_3d(fixed_model_3d, clip_dataloader_val)\n",
    "#             optimizer.zero_grad()\n",
    "#             loss.backward()\n",
    "#             optimizer.step()\n",
    "        \n",
    "\n",
    "# def check_accuracy_3d(model, loader):\n",
    "#     '''\n",
    "#     if loader.dataset.train:\n",
    "#         print('Checking accuracy on validation set')\n",
    "#     else:\n",
    "#         print('Checking accuracy on test set')  \n",
    "#     '''\n",
    "#     num_correct = 0\n",
    "#     num_samples = 0\n",
    "#     model.eval() # Put the model in test mode (the opposite of model.train(), essentially)\n",
    "#     for t, sample in enumerate(loader):\n",
    "#         x_var = Variable(sample['clip'].float().cuda())\n",
    "#         y_var = sample['Label'].cuda()\n",
    "#         y_var=y_var.cpu()\n",
    "#         scores = model(x_var)\n",
    "#         _, preds = scores.data.cpu().max(1)\n",
    "#         #print(preds)\n",
    "#         #print(y_var)\n",
    "#         num_correct += (preds.numpy() == y_var.numpy()).sum()\n",
    "#         num_samples += preds.size(0)\n",
    "#     acc = float(num_correct) / num_samples\n",
    "#     print('Got %d / %d correct (%.2f)' % (num_correct, num_samples, 100 * acc))"
   ]
  },
  {
   "cell_type": "code",
   "execution_count": 65,
   "metadata": {
    "_uuid": "6bc3b2cc8199d8b8847b804254fd18c5c730ab41",
    "scrolled": true
   },
   "outputs": [
    {
     "name": "stdout",
     "output_type": "stream",
     "text": [
      "Starting epoch 1 / 5\n",
      "Got 186 / 2230 correct (8.34)\n"
     ]
    },
    {
     "name": "stderr",
     "output_type": "stream",
     "text": [
      "/opt/conda/lib/python3.6/site-packages/ipykernel_launcher.py:57: UserWarning: invalid index of a 0-dim tensor. This will be an error in PyTorch 0.5. Use tensor.item() to convert a 0-dim tensor to a Python number\n"
     ]
    },
    {
     "name": "stdout",
     "output_type": "stream",
     "text": [
      "t = 100, loss = 1.2312\n",
      "t = 200, loss = 0.5983\n",
      "t = 300, loss = 0.4655\n",
      "t = 400, loss = 0.2269\n",
      "Starting epoch 2 / 5\n",
      "Got 1234 / 2230 correct (55.34)\n",
      "t = 100, loss = 0.1758\n",
      "t = 200, loss = 0.1860\n",
      "t = 300, loss = 0.2170\n",
      "t = 400, loss = 0.2104\n",
      "Starting epoch 3 / 5\n",
      "Got 1439 / 2230 correct (64.53)\n",
      "t = 100, loss = 0.2106\n",
      "t = 200, loss = 0.0374\n",
      "t = 300, loss = 0.0702\n",
      "t = 400, loss = 0.0147\n",
      "Starting epoch 4 / 5\n",
      "Got 1404 / 2230 correct (62.96)\n",
      "t = 100, loss = 0.1132\n",
      "t = 200, loss = 0.0494\n",
      "t = 300, loss = 0.0272\n",
      "t = 400, loss = 0.4151\n",
      "Starting epoch 5 / 5\n",
      "Got 1521 / 2230 correct (68.21)\n",
      "t = 100, loss = 0.0195\n",
      "t = 200, loss = 0.0392\n",
      "t = 300, loss = 0.1210\n",
      "t = 400, loss = 0.0319\n"
     ]
    }
   ],
   "source": [
    "torch.cuda.random.manual_seed(12345)\n",
    "fixed_model_3d.apply(reset) \n",
    "fixed_model_3d.train() \n",
    "train_3d(fixed_model_3d, loss_fn, optimizer,clip_dataloader_train, num_epochs=3) \n",
    "fixed_model_3d.eval() \n",
    "check_accuracy_3d(fixed_model_3d, clip_dataloader_val)\n",
    "\n",
    "\n",
    "# GPU Code\n",
    "\n",
    "# import copy\n",
    "# gpu_dtype = torch.cuda.FloatTensor\n",
    "\n",
    "# fixed_model_gpu = copy.deepcopy(fixed_model_3d)#.type(gpu_dtype)\n",
    "# fixed_model_gpu.cuda()\n",
    "# x_gpu = torch.randn(32,3, 3, 64, 64).cuda()#.type(gpu_dtype)\n",
    "# x_var_gpu = Variable(x_gpu)#type(gpu_dtype)) # Construct a PyTorch Variable out of your input data\n",
    "# ans = fixed_model_gpu(x_var_gpu)        # Feed it through the model! \n",
    "# np.array_equal(np.array(ans.size()), np.array([32, 10]))\n",
    "\n",
    "# loss_fn = nn.CrossEntropyLoss().cuda()\n",
    "# optimizer = optim.Adam(fixed_model_gpu.parameters(), lr=0.0001)\n",
    "\n",
    "\n",
    "# torch.cuda.random.manual_seed(12345)\n",
    "\n",
    "# fixed_model_gpu.apply(reset) \n",
    "# fixed_model_gpu.train() \n",
    "# train_3d(fixed_model_gpu, loss_fn, optimizer,clip_dataloader_train, num_epochs=5)"
   ]
  },
  {
   "cell_type": "code",
   "execution_count": 70,
   "metadata": {
    "_uuid": "878977003f90991ed04522b8b7127828442ae123"
   },
   "outputs": [
    {
     "name": "stdout",
     "output_type": "stream",
     "text": [
      "Got 1486 / 2230 correct (66.64)\n"
     ]
    }
   ],
   "source": [
    "check_accuracy_3d(fixed_model_gpu, clip_dataloader_val)"
   ]
  },
  {
   "cell_type": "markdown",
   "metadata": {
    "_uuid": "1108dca70c9ac1a4c13caab64590e4a5c6a6e41f",
    "collapsed": true
   },
   "source": [
    "Test your 3d convolution model on the validation set. You don't need to submit the result of this part to kaggle.  "
   ]
  },
  {
   "cell_type": "markdown",
   "metadata": {
    "_uuid": "b9441ad2a2750e873c65169216dedcdfa619d608",
    "collapsed": true
   },
   "source": [
    "Test your model on the test set, predict_on_test_3d() will generate a file named 'results_3d.csv'. Please submit the csv file to kaggle https://www.kaggle.com/c/cse512springhw3video\n",
    "The highest 3 entries get extra 10 points.\n"
   ]
  },
  {
   "cell_type": "code",
   "execution_count": 69,
   "metadata": {
    "_uuid": "7bbe3426ec0e9575229c89d5b6c725cd24860cc2"
   },
   "outputs": [
    {
     "name": "stdout",
     "output_type": "stream",
     "text": [
      "3270\n"
     ]
    }
   ],
   "source": [
    "def predict_on_test_3d(model, loader):\n",
    "    '''\n",
    "    if loader.dataset.train:\n",
    "        print('Checking accuracy on validation set')\n",
    "    else:\n",
    "        print('Checking accuracy on test set')  \n",
    "    '''\n",
    "    num_correct = 0\n",
    "    num_samples = 0\n",
    "    model.eval() # Put the model in test mode (the opposite of model.train(), essentially)\n",
    "    results=open('results_3d.csv','w')\n",
    "    count=0\n",
    "    results.write('Id'+','+'Class'+'\\n')\n",
    "    for t, sample in enumerate(loader):\n",
    "        x_var = Variable(sample['clip'].type(dtype))\n",
    "        scores = model(x_var)\n",
    "        _, preds = scores.data.max(1)\n",
    "        for i in range(len(preds)):\n",
    "            results.write(str(count)+','+str(preds[i])+'\\n')\n",
    "            count+=1\n",
    "    results.close()\n",
    "    return count\n",
    "    \n",
    "count=predict_on_test_3d(fixed_model_3d, clip_dataloader_test)\n",
    "print(count)"
   ]
  }
 ],
 "metadata": {
  "kernelspec": {
   "display_name": "Python 3",
   "language": "python",
   "name": "python3"
  },
  "language_info": {
   "codemirror_mode": {
    "name": "ipython",
    "version": 3
   },
   "file_extension": ".py",
   "mimetype": "text/x-python",
   "name": "python",
   "nbconvert_exporter": "python",
   "pygments_lexer": "ipython3",
   "version": "3.6.2"
  }
 },
 "nbformat": 4,
 "nbformat_minor": 1
}
